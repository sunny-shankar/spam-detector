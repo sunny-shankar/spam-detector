{
 "cells": [
  {
   "cell_type": "code",
   "execution_count": 25,
   "id": "b697b652",
   "metadata": {},
   "outputs": [],
   "source": [
    "import pathlib\n",
    "\n",
    "BASE_DIR=pathlib.Path().resolve().parent\n",
    "\n",
    "DATASETS_DIR= BASE_DIR / \"datasets\"\n",
    "ZIPS_DIR = DATASETS_DIR / \"zips\"\n",
    "\n",
    "SMS_SPAM_ZIP=\"https://archive.ics.uci.edu/ml/machine-learning-databases/00228/smsspamcollection.zip\"\n",
    "YT_SPAM_ZIP=\"https://archive.ics.uci.edu/ml/machine-learning-databases/00380/YouTube-Spam-Collection-v1.zip\"\n",
    "\n",
    "\n",
    "ZIPS_DIR.mkdir(exist_ok=True,parents=True)\n",
    "SMS_SPAM_ZIP_PATH = ZIPS_DIR / \"sms-spam-dataset.zip\"\n",
    "YT_SPAM_ZIP_PATH = ZIPS_DIR / \"yt-spam-dataset.zip\""
   ]
  },
  {
   "cell_type": "code",
   "execution_count": 26,
   "id": "c39f40f2",
   "metadata": {},
   "outputs": [
    {
     "name": "stderr",
     "output_type": "stream",
     "text": [
      "  % Total    % Received % Xferd  Average Speed   Time    Time     Time  Current\n",
      "                                 Dload  Upload   Total   Spent    Left  Speed\n",
      "\n",
      "  0     0    0     0    0     0      0      0 --:--:-- --:--:-- --:--:--     0\n",
      "  0     0    0     0    0     0      0      0 --:--:-- --:--:-- --:--:--     0\n",
      "  7  198k    7 15872    0     0  11541      0  0:00:17  0:00:01  0:00:16 11543\n",
      " 78  198k   78  155k    0     0  65392      0  0:00:03  0:00:02  0:00:01 65397\n",
      "100  198k  100  198k    0     0  83731      0  0:00:02  0:00:02 --:--:-- 83744\n",
      "  % Total    % Received % Xferd  Average Speed   Time    Time     Time  Current\n",
      "                                 Dload  Upload   Total   Spent    Left  Speed\n",
      "\n",
      "  0     0    0     0    0     0      0      0 --:--:-- --:--:-- --:--:--     0\n",
      "  0     0    0     0    0     0      0      0 --:--:-- --:--:-- --:--:--     0\n",
      " 58  159k   58 95232    0     0  47858      0  0:00:03  0:00:01  0:00:02 47855\n",
      "100  159k  100  159k    0     0  82107      0  0:00:01  0:00:01 --:--:-- 82111\n"
     ]
    }
   ],
   "source": [
    "! curl $SMS_SPAM_ZIP -o $SMS_SPAM_ZIP_PATH\n",
    "! curl $YT_SPAM_ZIP -o $YT_SPAM_ZIP_PATH\n",
    "\n"
   ]
  },
  {
   "cell_type": "code",
   "execution_count": 56,
   "id": "33c0d8e7",
   "metadata": {},
   "outputs": [],
   "source": [
    "CLASSIFIER_DIR = DATASETS_DIR / \"classifiers\"\n",
    "SMS_DATASET_PATH = CLASSIFIER_DIR / \"sms-spam-dataset\"\n",
    "YT_DATASET_PATH = CLASSIFIER_DIR / \"yt-spam-dataset\"\n",
    "\n",
    "sms_dataset_ip = SMS_DATASET_PATH/ \"SMSSpamCollection\"\n"
   ]
  },
  {
   "cell_type": "code",
   "execution_count": 57,
   "id": "c05ce901",
   "metadata": {},
   "outputs": [],
   "source": [
    "import pandas as pd"
   ]
  },
  {
   "cell_type": "code",
   "execution_count": 117,
   "id": "eae49f49",
   "metadata": {},
   "outputs": [],
   "source": [
    "sms_spam_df = pd.read_csv(sms_dataset_ip,sep=\"\\t\",header =None)\n",
    "sms_spam_df.columns = [\"label\",\"text\"]\n",
    "sms_spam_df[\"source\"] = \"sms-spam-dataset\""
   ]
  },
  {
   "cell_type": "code",
   "execution_count": 118,
   "id": "5400aa63",
   "metadata": {},
   "outputs": [
    {
     "data": {
      "text/html": [
       "<div>\n",
       "<style scoped>\n",
       "    .dataframe tbody tr th:only-of-type {\n",
       "        vertical-align: middle;\n",
       "    }\n",
       "\n",
       "    .dataframe tbody tr th {\n",
       "        vertical-align: top;\n",
       "    }\n",
       "\n",
       "    .dataframe thead th {\n",
       "        text-align: right;\n",
       "    }\n",
       "</style>\n",
       "<table border=\"1\" class=\"dataframe\">\n",
       "  <thead>\n",
       "    <tr style=\"text-align: right;\">\n",
       "      <th></th>\n",
       "      <th>label</th>\n",
       "      <th>text</th>\n",
       "      <th>source</th>\n",
       "    </tr>\n",
       "  </thead>\n",
       "  <tbody>\n",
       "    <tr>\n",
       "      <th>0</th>\n",
       "      <td>ham</td>\n",
       "      <td>Go until jurong point, crazy.. Available only ...</td>\n",
       "      <td>sms-spam-dataset</td>\n",
       "    </tr>\n",
       "    <tr>\n",
       "      <th>1</th>\n",
       "      <td>ham</td>\n",
       "      <td>Ok lar... Joking wif u oni...</td>\n",
       "      <td>sms-spam-dataset</td>\n",
       "    </tr>\n",
       "    <tr>\n",
       "      <th>2</th>\n",
       "      <td>spam</td>\n",
       "      <td>Free entry in 2 a wkly comp to win FA Cup fina...</td>\n",
       "      <td>sms-spam-dataset</td>\n",
       "    </tr>\n",
       "    <tr>\n",
       "      <th>3</th>\n",
       "      <td>ham</td>\n",
       "      <td>U dun say so early hor... U c already then say...</td>\n",
       "      <td>sms-spam-dataset</td>\n",
       "    </tr>\n",
       "    <tr>\n",
       "      <th>4</th>\n",
       "      <td>ham</td>\n",
       "      <td>Nah I don't think he goes to usf, he lives aro...</td>\n",
       "      <td>sms-spam-dataset</td>\n",
       "    </tr>\n",
       "  </tbody>\n",
       "</table>\n",
       "</div>"
      ],
      "text/plain": [
       "  label                                               text            source\n",
       "0   ham  Go until jurong point, crazy.. Available only ...  sms-spam-dataset\n",
       "1   ham                      Ok lar... Joking wif u oni...  sms-spam-dataset\n",
       "2  spam  Free entry in 2 a wkly comp to win FA Cup fina...  sms-spam-dataset\n",
       "3   ham  U dun say so early hor... U c already then say...  sms-spam-dataset\n",
       "4   ham  Nah I don't think he goes to usf, he lives aro...  sms-spam-dataset"
      ]
     },
     "execution_count": 118,
     "metadata": {},
     "output_type": "execute_result"
    }
   ],
   "source": [
    "sms_spam_df.head()"
   ]
  },
  {
   "cell_type": "code",
   "execution_count": 119,
   "id": "faa09710",
   "metadata": {},
   "outputs": [],
   "source": [
    "yt_data_list = []\n",
    "\n",
    "for path in YT_DATASET_PATH.glob(\"*.csv\"):\n",
    "    \n",
    "    temp_df = pd.read_csv(path)\n",
    "    temp_df.rename(columns={\"CONTENT\":\"text\",\"CLASS\":\"label\"},inplace=True)\n",
    "    temp_df[\"source\"] = \"yt-spam-dataset\"\n",
    "    yt_data_list.append(temp_df)"
   ]
  },
  {
   "cell_type": "code",
   "execution_count": 120,
   "id": "dc84d1d2",
   "metadata": {},
   "outputs": [],
   "source": [
    "yt_spam_df = pd.concat(yt_data_list)\n",
    "yt_spam_df[\"label\"] = yt_spam_df[\"label\"].map({1:\"spam\",0:\"ham\"})"
   ]
  },
  {
   "cell_type": "code",
   "execution_count": 121,
   "id": "fe329bb4",
   "metadata": {},
   "outputs": [],
   "source": [
    "yt_spam_df = yt_spam_df[[\"text\",\"label\",\"source\"]]"
   ]
  },
  {
   "cell_type": "code",
   "execution_count": 122,
   "id": "5b41e514",
   "metadata": {},
   "outputs": [],
   "source": [
    "spam_df = pd.concat([sms_spam_df,yt_spam_df])"
   ]
  },
  {
   "cell_type": "code",
   "execution_count": 124,
   "id": "65bf754e",
   "metadata": {},
   "outputs": [
    {
     "data": {
      "text/html": [
       "<div>\n",
       "<style scoped>\n",
       "    .dataframe tbody tr th:only-of-type {\n",
       "        vertical-align: middle;\n",
       "    }\n",
       "\n",
       "    .dataframe tbody tr th {\n",
       "        vertical-align: top;\n",
       "    }\n",
       "\n",
       "    .dataframe thead th {\n",
       "        text-align: right;\n",
       "    }\n",
       "</style>\n",
       "<table border=\"1\" class=\"dataframe\">\n",
       "  <thead>\n",
       "    <tr style=\"text-align: right;\">\n",
       "      <th></th>\n",
       "      <th>label</th>\n",
       "      <th>text</th>\n",
       "      <th>source</th>\n",
       "    </tr>\n",
       "  </thead>\n",
       "  <tbody>\n",
       "    <tr>\n",
       "      <th>0</th>\n",
       "      <td>ham</td>\n",
       "      <td>Go until jurong point, crazy.. Available only ...</td>\n",
       "      <td>sms-spam-dataset</td>\n",
       "    </tr>\n",
       "    <tr>\n",
       "      <th>1</th>\n",
       "      <td>ham</td>\n",
       "      <td>Ok lar... Joking wif u oni...</td>\n",
       "      <td>sms-spam-dataset</td>\n",
       "    </tr>\n",
       "    <tr>\n",
       "      <th>2</th>\n",
       "      <td>spam</td>\n",
       "      <td>Free entry in 2 a wkly comp to win FA Cup fina...</td>\n",
       "      <td>sms-spam-dataset</td>\n",
       "    </tr>\n",
       "    <tr>\n",
       "      <th>3</th>\n",
       "      <td>ham</td>\n",
       "      <td>U dun say so early hor... U c already then say...</td>\n",
       "      <td>sms-spam-dataset</td>\n",
       "    </tr>\n",
       "    <tr>\n",
       "      <th>4</th>\n",
       "      <td>ham</td>\n",
       "      <td>Nah I don't think he goes to usf, he lives aro...</td>\n",
       "      <td>sms-spam-dataset</td>\n",
       "    </tr>\n",
       "    <tr>\n",
       "      <th>...</th>\n",
       "      <td>...</td>\n",
       "      <td>...</td>\n",
       "      <td>...</td>\n",
       "    </tr>\n",
       "    <tr>\n",
       "      <th>365</th>\n",
       "      <td>ham</td>\n",
       "      <td>I love this song because we sing it at Camp al...</td>\n",
       "      <td>yt-spam-dataset</td>\n",
       "    </tr>\n",
       "    <tr>\n",
       "      <th>366</th>\n",
       "      <td>ham</td>\n",
       "      <td>I love this song for two reasons: 1.it is abou...</td>\n",
       "      <td>yt-spam-dataset</td>\n",
       "    </tr>\n",
       "    <tr>\n",
       "      <th>367</th>\n",
       "      <td>ham</td>\n",
       "      <td>wow</td>\n",
       "      <td>yt-spam-dataset</td>\n",
       "    </tr>\n",
       "    <tr>\n",
       "      <th>368</th>\n",
       "      <td>ham</td>\n",
       "      <td>Shakira u are so wiredo</td>\n",
       "      <td>yt-spam-dataset</td>\n",
       "    </tr>\n",
       "    <tr>\n",
       "      <th>369</th>\n",
       "      <td>ham</td>\n",
       "      <td>Shakira is the best dancer</td>\n",
       "      <td>yt-spam-dataset</td>\n",
       "    </tr>\n",
       "  </tbody>\n",
       "</table>\n",
       "<p>7528 rows × 3 columns</p>\n",
       "</div>"
      ],
      "text/plain": [
       "    label                                               text            source\n",
       "0     ham  Go until jurong point, crazy.. Available only ...  sms-spam-dataset\n",
       "1     ham                      Ok lar... Joking wif u oni...  sms-spam-dataset\n",
       "2    spam  Free entry in 2 a wkly comp to win FA Cup fina...  sms-spam-dataset\n",
       "3     ham  U dun say so early hor... U c already then say...  sms-spam-dataset\n",
       "4     ham  Nah I don't think he goes to usf, he lives aro...  sms-spam-dataset\n",
       "..    ...                                                ...               ...\n",
       "365   ham  I love this song because we sing it at Camp al...   yt-spam-dataset\n",
       "366   ham  I love this song for two reasons: 1.it is abou...   yt-spam-dataset\n",
       "367   ham                                                wow   yt-spam-dataset\n",
       "368   ham                            Shakira u are so wiredo   yt-spam-dataset\n",
       "369   ham                         Shakira is the best dancer   yt-spam-dataset\n",
       "\n",
       "[7528 rows x 3 columns]"
      ]
     },
     "execution_count": 124,
     "metadata": {},
     "output_type": "execute_result"
    }
   ],
   "source": [
    "spam_df"
   ]
  },
  {
   "cell_type": "code",
   "execution_count": 130,
   "id": "8323090f",
   "metadata": {},
   "outputs": [],
   "source": [
    "EXPORT_DATASET_DIR = DATASETS_DIR / \"exports\"\n",
    "EXPORT_DATASET_DIR.mkdir(exist_ok=True,parents=True)\n",
    "SPAM_DATASET_PATH = EXPORT_DATASET_DIR / \"spam-dataset.csv\""
   ]
  },
  {
   "cell_type": "code",
   "execution_count": 131,
   "id": "93d9f2a3",
   "metadata": {},
   "outputs": [],
   "source": [
    "spam_df.to_csv(SPAM_DATASET_PATH)"
   ]
  },
  {
   "cell_type": "code",
   "execution_count": null,
   "id": "3e1fa049",
   "metadata": {},
   "outputs": [],
   "source": []
  }
 ],
 "metadata": {
  "kernelspec": {
   "display_name": "Python 3 (ipykernel)",
   "language": "python",
   "name": "python3"
  },
  "language_info": {
   "codemirror_mode": {
    "name": "ipython",
    "version": 3
   },
   "file_extension": ".py",
   "mimetype": "text/x-python",
   "name": "python",
   "nbconvert_exporter": "python",
   "pygments_lexer": "ipython3",
   "version": "3.10.0"
  }
 },
 "nbformat": 4,
 "nbformat_minor": 5
}
